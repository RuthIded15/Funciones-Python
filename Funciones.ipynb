{
  "nbformat": 4,
  "nbformat_minor": 0,
  "metadata": {
    "colab": {
      "name": "Funciones.ipynb",
      "provenance": [],
      "collapsed_sections": [],
      "toc_visible": true,
      "authorship_tag": "ABX9TyO1CmRBoH4ogKA1cjC3BIRv",
      "include_colab_link": true
    },
    "kernelspec": {
      "name": "python3",
      "display_name": "Python 3"
    },
    "language_info": {
      "name": "python"
    }
  },
  "cells": [
    {
      "cell_type": "markdown",
      "metadata": {
        "id": "view-in-github",
        "colab_type": "text"
      },
      "source": [
        "<a href=\"https://colab.research.google.com/github/RuthIded15/Funciones-Python/blob/main/Funciones.ipynb\" target=\"_parent\"><img src=\"https://colab.research.google.com/assets/colab-badge.svg\" alt=\"Open In Colab\"/></a>"
      ]
    },
    {
      "cell_type": "code",
      "execution_count": null,
      "metadata": {
        "colab": {
          "base_uri": "https://localhost:8080/"
        },
        "id": "txWgAUNZKgsn",
        "outputId": "d025bf25-9aa6-4e43-90ae-b7727aa8e5a9"
      },
      "outputs": [
        {
          "output_type": "stream",
          "name": "stdout",
          "text": [
            "hola mundo\n"
          ]
        }
      ],
      "source": [
        "print(\"hola mundo\")"
      ]
    },
    {
      "cell_type": "code",
      "source": [
        "lista_nombres = [\"Marcos\" ,\"Laura\", \"Mónica\", \"Javier\", \"Celina\", \"Marta\", \"Darío\", \"Emiliano\", \"Melisa\"]\n",
        "for nombre in lista_nombres:\n",
        "    if nombre.startswith(\"M\"):\n",
        "        print(nombre)"
      ],
      "metadata": {
        "id": "51DUzn6atiQY",
        "colab": {
          "base_uri": "https://localhost:8080/"
        },
        "outputId": "4180310a-7a67-414b-93a4-f25a4d54bca9"
      },
      "execution_count": null,
      "outputs": [
        {
          "output_type": "stream",
          "name": "stdout",
          "text": [
            "Marcos\n",
            "Mónica\n",
            "Marta\n",
            "Melisa\n"
          ]
        }
      ]
    },
    {
      "cell_type": "code",
      "source": [
        "nombre='ruth'\n",
        "nombre2=''.join(reversed(nombre)).upper()\n",
        "print(nombre2)"
      ],
      "metadata": {
        "colab": {
          "base_uri": "https://localhost:8080/"
        },
        "id": "Xfm_hMyJjlUM",
        "outputId": "05c8d4cf-4467-4f63-8dd0-f3788c16d05c"
      },
      "execution_count": null,
      "outputs": [
        {
          "output_type": "stream",
          "name": "stdout",
          "text": [
            "HTUR\n"
          ]
        }
      ]
    },
    {
      "cell_type": "code",
      "source": [
        "numero_negativo = 19\n",
        "positivo = abs(numero_negativo)\n",
        "print(positivo)"
      ],
      "metadata": {
        "colab": {
          "base_uri": "https://localhost:8080/"
        },
        "id": "xCrPKqtCoLGs",
        "outputId": "3d8be7fa-2239-44b7-9f78-9586a0c45a6f"
      },
      "execution_count": null,
      "outputs": [
        {
          "output_type": "stream",
          "name": "stdout",
          "text": [
            "19\n"
          ]
        }
      ]
    },
    {
      "cell_type": "code",
      "source": [
        "def numeros_persona(*args,nombre):\n",
        "    return sum(args),nombre\n",
        "numeros_persona(1,2,3,4,nombre=\"Ruth\")"
      ],
      "metadata": {
        "colab": {
          "base_uri": "https://localhost:8080/"
        },
        "id": "0fIZ0lGQshS8",
        "outputId": "c6c6ecf0-5f09-448e-b903-b410065df811"
      },
      "execution_count": null,
      "outputs": [
        {
          "output_type": "execute_result",
          "data": {
            "text/plain": [
              "(10, 'Ruth')"
            ]
          },
          "metadata": {},
          "execution_count": 21
        }
      ]
    },
    {
      "cell_type": "code",
      "source": [
        "def f(*args, b):\n",
        "     return args, b\n",
        "f(1, 2, b=3)\n"
      ],
      "metadata": {
        "colab": {
          "base_uri": "https://localhost:8080/"
        },
        "id": "PLT7cua5tQE9",
        "outputId": "48ae4e2a-9769-4165-c64b-b5e3e5ae64ad"
      },
      "execution_count": null,
      "outputs": [
        {
          "output_type": "execute_result",
          "data": {
            "text/plain": [
              "((1, 2), 3)"
            ]
          },
          "metadata": {},
          "execution_count": 14
        }
      ]
    },
    {
      "cell_type": "markdown",
      "source": [
        "**EJERCICIO 1**"
      ],
      "metadata": {
        "id": "pbJgt8qIIlpH"
      }
    },
    {
      "cell_type": "markdown",
      "source": [
        "Crea una función llamada\n",
        "devolver_distintos()\n",
        "que reciba\n",
        "3integers\n",
        "como\n",
        "parámetros\n",
        ".\n",
        "Si la\n",
        "suma\n",
        "de los 3 numeros es\n",
        "mayor a 15\n",
        ", va a\n",
        "devolver\n",
        "elnúmero\n",
        "mayor\n",
        ".\n",
        "Si la\n",
        "suma\n",
        "de los 3 numeros es\n",
        "menor a 10\n",
        ", va a\n",
        "devolver\n",
        "elnúmero\n",
        "menor\n",
        ".\n",
        "Si la\n",
        "suma\n",
        "de los 3 números es un valor\n",
        "entre 10 y 15(incluidos)\n",
        "va a\n",
        "devolver\n",
        "el número de\n",
        "valor intermedio\n",
        "."
      ],
      "metadata": {
        "id": "PssxRnhV9Dte"
      }
    },
    {
      "cell_type": "code",
      "source": [
        "def devolver_distintos(a,b,c):\n",
        "  lista=[a,b,c]\n",
        "  suma=a+b+c\n",
        "  if suma> 15:\n",
        "    return max(lista)\n",
        "  elif suma< 10:\n",
        "      return min(lista)\n",
        "  else:\n",
        "    lista.sort()\n",
        "    return lista[1]\n",
        "\n",
        "print(devolver_distintos(9,4,5))"
      ],
      "metadata": {
        "colab": {
          "base_uri": "https://localhost:8080/"
        },
        "id": "-nGpKw3bIlEX",
        "outputId": "7e335442-df0d-401d-dccf-1df5249a68ba"
      },
      "execution_count": null,
      "outputs": [
        {
          "output_type": "stream",
          "name": "stdout",
          "text": [
            "9\n"
          ]
        }
      ]
    },
    {
      "cell_type": "markdown",
      "source": [
        "**EJERCICIO 2**"
      ],
      "metadata": {
        "id": "O_T82u_QzLtF"
      }
    },
    {
      "cell_type": "markdown",
      "source": [
        "Escribe una función\n",
        "(puedes ponerle cualquier nombre quequieras)\n",
        "que reciba cualquier palabra como parámetro, y quedevuelva todas sus letras únicas\n",
        "(sin repetir)\n",
        "pero en ordenalfabético.\n",
        "Por ejemplo si al invocar esta función pasamos la palabra\"entretenido\", debería devolver ['d', 'e', 'i', 'n', 'o', 'r', 't']"
      ],
      "metadata": {
        "id": "DmpkMZwt8-pe"
      }
    },
    {
      "cell_type": "code",
      "source": [
        "def palabra(a):\n",
        "  lista=list(set(a))\n",
        "  lista.sort()\n",
        "  return lista\n",
        "palabra(\"alexander\")"
      ],
      "metadata": {
        "colab": {
          "base_uri": "https://localhost:8080/"
        },
        "id": "9x3g5LNQzS6v",
        "outputId": "3e42c2b0-ced1-4331-f975-6cdb6b3933b1"
      },
      "execution_count": 5,
      "outputs": [
        {
          "output_type": "execute_result",
          "data": {
            "text/plain": [
              "['a', 'd', 'e', 'l', 'n', 'r', 'x']"
            ]
          },
          "metadata": {},
          "execution_count": 5
        }
      ]
    },
    {
      "cell_type": "markdown",
      "source": [
        "**EJERCICIO 3**"
      ],
      "metadata": {
        "id": "HGFPHFUAC2wR"
      }
    },
    {
      "cell_type": "markdown",
      "source": [
        "Escribe una función que requiera una cantidad indefinida deargumentos. Lo que hará esta función es devolver\n",
        "True\n",
        "si enalgún momento se ha ingresado al numero\n",
        "cero\n",
        "repetido dosveces consecutivas\n",
        ".\n",
        "Por ejemplo:\n",
        "(5,6,1,0,0,9,3,5) >>>\n",
        "True\n",
        "(6,0,5,1,0,3,0,1) >>>\n",
        "False"
      ],
      "metadata": {
        "id": "g_9VmmR2C93m"
      }
    },
    {
      "cell_type": "code",
      "source": [
        "def funcion(*args):\n",
        "  contador=0\n",
        "  for num in args:\n",
        "    if args[contador]==0 and args[contador+1]==0:\n",
        "      return True\n",
        "    else:\n",
        "      contador=contador+1\n",
        "  return False\n",
        "\n",
        "funcion(5,6,3,8,1,0,9)\n"
      ],
      "metadata": {
        "colab": {
          "base_uri": "https://localhost:8080/"
        },
        "id": "0MbNV12lC5EY",
        "outputId": "16e19673-2ef1-49c9-873b-cb2925d13696"
      },
      "execution_count": 7,
      "outputs": [
        {
          "output_type": "execute_result",
          "data": {
            "text/plain": [
              "False"
            ]
          },
          "metadata": {},
          "execution_count": 7
        }
      ]
    },
    {
      "cell_type": "markdown",
      "source": [
        "**EJERCICIO 4**"
      ],
      "metadata": {
        "id": "9pQH9EdgoxeY"
      }
    },
    {
      "cell_type": "markdown",
      "source": [
        "Escribe una función llamada\n",
        "contar_primos()\n",
        "que requiera unsolo argumento numérico.\n",
        "Esta función va a mostrar en pantalla\n",
        "cuántos númerosprimos hay\n",
        "en el rango que va\n",
        "desde cero hasta ese número\n",
        "incluido\n",
        ", y va a\n",
        "devolver\n",
        "la\n",
        "cantidad\n",
        "de números primos queencontró.\n",
        "Aclaración, por convención el 0 y el 1 no se consideran primos."
      ],
      "metadata": {
        "id": "8CBdf5Iho_g8"
      }
    },
    {
      "cell_type": "code",
      "source": [
        "def contar_primos(numero):\n",
        "  primos=[2]\n",
        "  iteracion=3\n",
        "  if numero<2:\n",
        "    return 0\n",
        "  while iteracion <= numero:\n",
        "    for n in range(3,iteracion,2):\n",
        "      if iteracion % n==0:\n",
        "        iteracion +=2\n",
        "        break\n",
        "    else:\n",
        "       primos.append(iteracion)\n",
        "       iteracion +=2\n",
        "  print(primos)\n",
        "  return len(primos)\n",
        "\n",
        "contar_primos(5)"
      ],
      "metadata": {
        "colab": {
          "base_uri": "https://localhost:8080/"
        },
        "id": "HbwRZFrtx-4N",
        "outputId": "eccfc096-7c55-44ef-dd60-6533dbcc5ba6"
      },
      "execution_count": 13,
      "outputs": [
        {
          "output_type": "stream",
          "name": "stdout",
          "text": [
            "[2, 3, 5]\n"
          ]
        },
        {
          "output_type": "execute_result",
          "data": {
            "text/plain": [
              "3"
            ]
          },
          "metadata": {},
          "execution_count": 13
        }
      ]
    },
    {
      "cell_type": "code",
      "source": [
        "def es_primo(num):\n",
        "    for n in range(2, num):\n",
        "        if num % n == 0:\n",
        "            print(\"No es primo\", n, \"es divisor\")\n",
        "            return False\n",
        "    print(\"Es primo\")\n",
        "    return True\n",
        "es_primo(7)"
      ],
      "metadata": {
        "colab": {
          "base_uri": "https://localhost:8080/"
        },
        "id": "e6D4IoXXJ2IT",
        "outputId": "10fa81a5-7548-4cca-a91a-2ef9011d1ea0"
      },
      "execution_count": 8,
      "outputs": [
        {
          "output_type": "stream",
          "name": "stdout",
          "text": [
            "Es primo\n"
          ]
        },
        {
          "output_type": "execute_result",
          "data": {
            "text/plain": [
              "True"
            ]
          },
          "metadata": {},
          "execution_count": 8
        }
      ]
    },
    {
      "cell_type": "code",
      "source": [
        "from google.colab import drive\n",
        "drive.mount('/content/drive')"
      ],
      "metadata": {
        "id": "p0yrOW-42BWC"
      },
      "execution_count": null,
      "outputs": []
    }
  ]
}